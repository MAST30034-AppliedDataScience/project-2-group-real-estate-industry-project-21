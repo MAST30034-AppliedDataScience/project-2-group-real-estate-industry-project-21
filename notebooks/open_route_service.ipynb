{
 "cells": [
  {
   "cell_type": "markdown",
   "metadata": {},
   "source": [
    "### Notebook for Openroute service testings"
   ]
  },
  {
   "cell_type": "code",
   "execution_count": 1,
   "metadata": {},
   "outputs": [],
   "source": [
    "import openrouteservice as ors\n",
    "import folium "
   ]
  },
  {
   "cell_type": "code",
   "execution_count": 7,
   "metadata": {},
   "outputs": [],
   "source": [
    "# Note you have to create an account and get your own personal API key\n",
    "client = ors.Client(key = \"\") "
   ]
  },
  {
   "cell_type": "code",
   "execution_count": 11,
   "metadata": {},
   "outputs": [
    {
     "data": {
      "text/plain": [
       "<folium.vector_layers.PolyLine at 0x7f6728258e50>"
      ]
     },
     "execution_count": 11,
     "metadata": {},
     "output_type": "execute_result"
    }
   ],
   "source": [
    "_map = folium.Map(location=[-37.8376, 144.9631], tiles=\"Cartodb Positron\", zoom_start=13)\n",
    "\n",
    "coords = [[144.9671, -37.8183], [144.9610, -37.7983]]\n",
    "\n",
    "route = client.directions(coordinates = coords,\n",
    "                          profile = 'driving-car', \n",
    "                          format = 'geojson')\n",
    "\n",
    "folium.PolyLine(locations = [list(reversed(coord)) for coord in route['features'][0]['geometry']['coordinates']], color = 'blue').add_to(_map)"
   ]
  },
  {
   "cell_type": "code",
   "execution_count": 12,
   "metadata": {},
   "outputs": [
    {
     "data": {
      "text/html": [
       "<div style=\"width:100%;\"><div style=\"position:relative;width:100%;height:0;padding-bottom:60%;\"><span style=\"color:#565656\">Make this Notebook Trusted to load map: File -> Trust Notebook</span><iframe srcdoc=\"&lt;!DOCTYPE html&gt;\n",
       "&lt;html&gt;\n",
       "&lt;head&gt;\n",
       "    \n",
       "    &lt;meta http-equiv=&quot;content-type&quot; content=&quot;text/html; charset=UTF-8&quot; /&gt;\n",
       "    \n",
       "        &lt;script&gt;\n",
       "            L_NO_TOUCH = false;\n",
       "            L_DISABLE_3D = false;\n",
       "        &lt;/script&gt;\n",
       "    \n",
       "    &lt;style&gt;html, body {width: 100%;height: 100%;margin: 0;padding: 0;}&lt;/style&gt;\n",
       "    &lt;style&gt;#map {position:absolute;top:0;bottom:0;right:0;left:0;}&lt;/style&gt;\n",
       "    &lt;script src=&quot;https://cdn.jsdelivr.net/npm/leaflet@1.9.3/dist/leaflet.js&quot;&gt;&lt;/script&gt;\n",
       "    &lt;script src=&quot;https://code.jquery.com/jquery-3.7.1.min.js&quot;&gt;&lt;/script&gt;\n",
       "    &lt;script src=&quot;https://cdn.jsdelivr.net/npm/bootstrap@5.2.2/dist/js/bootstrap.bundle.min.js&quot;&gt;&lt;/script&gt;\n",
       "    &lt;script src=&quot;https://cdnjs.cloudflare.com/ajax/libs/Leaflet.awesome-markers/2.0.2/leaflet.awesome-markers.js&quot;&gt;&lt;/script&gt;\n",
       "    &lt;link rel=&quot;stylesheet&quot; href=&quot;https://cdn.jsdelivr.net/npm/leaflet@1.9.3/dist/leaflet.css&quot;/&gt;\n",
       "    &lt;link rel=&quot;stylesheet&quot; href=&quot;https://cdn.jsdelivr.net/npm/bootstrap@5.2.2/dist/css/bootstrap.min.css&quot;/&gt;\n",
       "    &lt;link rel=&quot;stylesheet&quot; href=&quot;https://netdna.bootstrapcdn.com/bootstrap/3.0.0/css/bootstrap-glyphicons.css&quot;/&gt;\n",
       "    &lt;link rel=&quot;stylesheet&quot; href=&quot;https://cdn.jsdelivr.net/npm/@fortawesome/fontawesome-free@6.2.0/css/all.min.css&quot;/&gt;\n",
       "    &lt;link rel=&quot;stylesheet&quot; href=&quot;https://cdnjs.cloudflare.com/ajax/libs/Leaflet.awesome-markers/2.0.2/leaflet.awesome-markers.css&quot;/&gt;\n",
       "    &lt;link rel=&quot;stylesheet&quot; href=&quot;https://cdn.jsdelivr.net/gh/python-visualization/folium/folium/templates/leaflet.awesome.rotate.min.css&quot;/&gt;\n",
       "    \n",
       "            &lt;meta name=&quot;viewport&quot; content=&quot;width=device-width,\n",
       "                initial-scale=1.0, maximum-scale=1.0, user-scalable=no&quot; /&gt;\n",
       "            &lt;style&gt;\n",
       "                #map_5881a699981e7b3282b0b48ffb52d47f {\n",
       "                    position: relative;\n",
       "                    width: 100.0%;\n",
       "                    height: 100.0%;\n",
       "                    left: 0.0%;\n",
       "                    top: 0.0%;\n",
       "                }\n",
       "                .leaflet-container { font-size: 1rem; }\n",
       "            &lt;/style&gt;\n",
       "        \n",
       "&lt;/head&gt;\n",
       "&lt;body&gt;\n",
       "    \n",
       "    \n",
       "            &lt;div class=&quot;folium-map&quot; id=&quot;map_5881a699981e7b3282b0b48ffb52d47f&quot; &gt;&lt;/div&gt;\n",
       "        \n",
       "&lt;/body&gt;\n",
       "&lt;script&gt;\n",
       "    \n",
       "    \n",
       "            var map_5881a699981e7b3282b0b48ffb52d47f = L.map(\n",
       "                &quot;map_5881a699981e7b3282b0b48ffb52d47f&quot;,\n",
       "                {\n",
       "                    center: [-37.8376, 144.9631],\n",
       "                    crs: L.CRS.EPSG3857,\n",
       "                    zoom: 13,\n",
       "                    zoomControl: true,\n",
       "                    preferCanvas: false,\n",
       "                }\n",
       "            );\n",
       "\n",
       "            \n",
       "\n",
       "        \n",
       "    \n",
       "            var tile_layer_258398e4905d4b0c1355767febef83f0 = L.tileLayer(\n",
       "                &quot;https://{s}.basemaps.cartocdn.com/light_all/{z}/{x}/{y}{r}.png&quot;,\n",
       "                {&quot;attribution&quot;: &quot;\\u0026copy; \\u003ca href=\\&quot;https://www.openstreetmap.org/copyright\\&quot;\\u003eOpenStreetMap\\u003c/a\\u003e contributors \\u0026copy; \\u003ca href=\\&quot;https://carto.com/attributions\\&quot;\\u003eCARTO\\u003c/a\\u003e&quot;, &quot;detectRetina&quot;: false, &quot;maxNativeZoom&quot;: 20, &quot;maxZoom&quot;: 20, &quot;minZoom&quot;: 0, &quot;noWrap&quot;: false, &quot;opacity&quot;: 1, &quot;subdomains&quot;: &quot;abcd&quot;, &quot;tms&quot;: false}\n",
       "            );\n",
       "        \n",
       "    \n",
       "            tile_layer_258398e4905d4b0c1355767febef83f0.addTo(map_5881a699981e7b3282b0b48ffb52d47f);\n",
       "        \n",
       "    \n",
       "            var poly_line_2c43597f0137cef94a8c6d46a5847332 = L.polyline(\n",
       "                [[-37.818153, 144.96764], [-37.817892, 144.967527], [-37.817659, 144.967439], [-37.81755, 144.967408], [-37.817405, 144.967388], [-37.817386, 144.96745], [-37.817203, 144.968063], [-37.817162, 144.968206], [-37.816845, 144.969309], [-37.816691, 144.969838], [-37.816554, 144.969754], [-37.816015, 144.969502], [-37.815766, 144.969387], [-37.815246, 144.969145], [-37.815034, 144.969046], [-37.814827, 144.968948], [-37.814736, 144.968906], [-37.813809, 144.968476], [-37.813567, 144.968366], [-37.813441, 144.968309], [-37.81318, 144.96819], [-37.81286, 144.968044], [-37.812761, 144.967998], [-37.812484, 144.967873], [-37.812075, 144.967688], [-37.811849, 144.967585], [-37.811231, 144.967304], [-37.810906, 144.967156], [-37.810808, 144.967111], [-37.810476, 144.966961], [-37.809868, 144.966684], [-37.808943, 144.966264], [-37.808818, 144.966206], [-37.808345, 144.965984], [-37.80782, 144.965739], [-37.807658, 144.965686], [-37.807442, 144.965712], [-37.807011, 144.965767], [-37.806913, 144.965783], [-37.806105, 144.965925], [-37.805497, 144.966033], [-37.804926, 144.966134], [-37.804889, 144.965783], [-37.804829, 144.965223], [-37.804785, 144.964815], [-37.80477, 144.964683], [-37.804714, 144.964253], [-37.804612, 144.963339], [-37.804594, 144.963175], [-37.804515, 144.96319], [-37.804432, 144.963205], [-37.804341, 144.963248], [-37.804234, 144.963268], [-37.8039, 144.96332], [-37.803266, 144.963434], [-37.802894, 144.963498], [-37.802719, 144.963495], [-37.801915, 144.963633], [-37.801697, 144.963696], [-37.801277, 144.963776], [-37.801061, 144.963796], [-37.801002, 144.963136], [-37.80097, 144.962866], [-37.800921, 144.962471], [-37.800905, 144.962314], [-37.800833, 144.961636], [-37.800662, 144.961662], [-37.800199, 144.961748], [-37.800195, 144.961713], [-37.800173, 144.961506], [-37.800147, 144.961265], [-37.800123, 144.96111], [-37.800093, 144.960898], [-37.800053, 144.96053], [-37.799986, 144.960542], [-37.799866, 144.960563], [-37.799693, 144.9606]],\n",
       "                {&quot;bubblingMouseEvents&quot;: true, &quot;color&quot;: &quot;blue&quot;, &quot;dashArray&quot;: null, &quot;dashOffset&quot;: null, &quot;fill&quot;: false, &quot;fillColor&quot;: &quot;blue&quot;, &quot;fillOpacity&quot;: 0.2, &quot;fillRule&quot;: &quot;evenodd&quot;, &quot;lineCap&quot;: &quot;round&quot;, &quot;lineJoin&quot;: &quot;round&quot;, &quot;noClip&quot;: false, &quot;opacity&quot;: 1.0, &quot;smoothFactor&quot;: 1.0, &quot;stroke&quot;: true, &quot;weight&quot;: 3}\n",
       "            ).addTo(map_5881a699981e7b3282b0b48ffb52d47f);\n",
       "        \n",
       "    \n",
       "            tile_layer_258398e4905d4b0c1355767febef83f0.addTo(map_5881a699981e7b3282b0b48ffb52d47f);\n",
       "        \n",
       "&lt;/script&gt;\n",
       "&lt;/html&gt;\" style=\"position:absolute;width:100%;height:100%;left:0;top:0;border:none !important;\" allowfullscreen webkitallowfullscreen mozallowfullscreen></iframe></div></div>"
      ],
      "text/plain": [
       "<folium.folium.Map at 0x7f671bb7a0e0>"
      ]
     },
     "execution_count": 12,
     "metadata": {},
     "output_type": "execute_result"
    }
   ],
   "source": [
    "# Save the map file (open route services)\n",
    "\n",
    "_map.save(\"../plots/flinders_to_Uni_map.html\")\n",
    "_map"
   ]
  }
 ],
 "metadata": {
  "kernelspec": {
   "display_name": "Python 3",
   "language": "python",
   "name": "python3"
  },
  "language_info": {
   "codemirror_mode": {
    "name": "ipython",
    "version": 3
   },
   "file_extension": ".py",
   "mimetype": "text/x-python",
   "name": "python",
   "nbconvert_exporter": "python",
   "pygments_lexer": "ipython3",
   "version": "3.10.12"
  }
 },
 "nbformat": 4,
 "nbformat_minor": 2
}
