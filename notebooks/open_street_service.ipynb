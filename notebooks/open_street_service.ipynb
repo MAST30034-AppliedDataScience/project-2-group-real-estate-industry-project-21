{
 "cells": [
  {
   "cell_type": "markdown",
   "metadata": {},
   "source": [
    "### Open Street Service Notebook\n",
    "\n"
   ]
  },
  {
   "cell_type": "code",
   "execution_count": 1,
   "metadata": {},
   "outputs": [],
   "source": [
    "from geopy.geocoders import Nominatim\n",
    "import requests\n",
    "import folium\n",
    "\n",
    "def get_coordinates(address):\n",
    "    geolocator = Nominatim(user_agent=\"myGeocoder\")\n",
    "    location = geolocator.geocode(address)\n",
    "    return (location.latitude, location.longitude)\n",
    "\n",
    "\n",
    "def find_nearby_locations(lat, lon, location_type):\n",
    "    tags = {\n",
    "        \"schools\": '[\"amenity\"=\"school\"]',\n",
    "        \"parks\": '[\"leisure\"=\"park\"]',\n",
    "        \"supermarkets\": '[\"shop\"=\"supermarket\"]',\n",
    "        \"shopping_districts\": '[\"shop\"=\"mall\"]'\n",
    "    }\n",
    "\n",
    "    if location_type not in tags:\n",
    "        raise ValueError(\"Invalid location type. Choose from: schools, parks, supermarkets, shopping_districts.\")\n",
    "    \n",
    "    query = f\"\"\"\n",
    "    [out:json];\n",
    "    (\n",
    "      node{tags[location_type]}(around:1000,{lat},{lon});\n",
    "      way{tags[location_type]}(around:1000,{lat},{lon});\n",
    "      relation{tags[location_type]}(around:1000,{lat},{lon});\n",
    "    );\n",
    "    out body;\n",
    "    \"\"\"\n",
    "    response = requests.get('http://overpass-api.de/api/interpreter', params={'data': query})\n",
    "    data = response.json()\n",
    "    return data['elements']\n",
    "\n"
   ]
  },
  {
   "cell_type": "markdown",
   "metadata": {},
   "source": [
    "### Test the code"
   ]
  },
  {
   "cell_type": "code",
   "execution_count": 6,
   "metadata": {},
   "outputs": [
    {
     "name": "stdout",
     "output_type": "stream",
     "text": [
      "Coordinates of 40 Higinbotham Street, Coburg VIC 3058, Australia: -37.7350672, 144.9582717\n",
      "[{'type': 'way', 'id': 25092971, 'nodes': [273102198, 822444604, 12116475901, 273102200, 822444614, 822444615, 273102202, 273102208, 12116449677, 10094612099, 273102210, 273102211, 10094612098, 10094612100, 12116475949, 7621476321, 273102213, 7621476322, 273102215, 822444605, 273102198], 'tags': {'addr:housenumber': '760', 'addr:street': 'Sydney Road', 'alt_name': 'Mercy College Coburg', 'amenity': 'school', 'denomination': 'catholic', 'grades': '7-12', 'isced:level': '2-3', 'name': 'Mercy College', 'operator': 'Melbourne Archdiocese Catholic Schools', 'operator:short': 'MACS', 'operator:type': 'religious', 'operator:wikidata': 'Q100769882', 'religion': 'christian', 'website': 'www.mercycollege.vic.edu.au'}}, {'type': 'way', 'id': 25134051, 'nodes': [273850661, 8061464077, 8061464078, 273850669, 273850676, 273850684, 273850661], 'tags': {'addr:housenumber': '180', 'addr:street': \"O'Hea Street\", 'amenity': 'school', 'grades': '0-6', 'isced:level': '1', 'name': 'Coburg North Primary School', 'operator': 'Victorian Department of Education', 'operator:type': 'public', 'operator:wikidata': 'Q5260272'}}, {'type': 'way', 'id': 33173120, 'nodes': [375683392, 375683393, 375683394, 10094612103, 10094612101, 10094612102, 375683398, 375683399, 375683401, 375683403, 10104706950, 10104706948, 10104706949, 375683404, 375683392], 'tags': {'addr:housenumber': '653', 'addr:street': 'Sydney Road', 'alt_name': 'AIA King Khalid Coburg Campus', 'amenity': 'school', 'grades': '0-5', 'isced:level': '1', 'name': 'Australian International Academy King Khalid Coburg Campus', 'old_name': 'King Khalid College', 'operator': 'Australian International Academy of Education Incorporated', 'operator:type': 'private', 'religion': 'muslim', 'wikidata': 'Q4824327'}}, {'type': 'way', 'id': 169681306, 'nodes': [1808482221, 1808482223, 1808482213, 1808482225, 1808482214, 1808482212, 10094612107, 10094612106, 1808482211, 1808482227, 1808482221], 'tags': {'addr:housenumber': '193-195', 'addr:street': 'Gaffney Street', 'amenity': 'school', 'grades': '0-12', 'isced:level': '1-3', 'name': 'Coburg Special Development School', 'operator': 'Victorian Department of Education', 'operator:type': 'public', 'operator:wikidata': 'Q5260272', 'school': 'special_education_needs'}}, {'type': 'way', 'id': 587424224, 'nodes': [5611123291, 8930584495, 5611123292, 8930584494, 5611123293, 5611123294, 5611123295, 5611123296, 5611123297, 5611123298, 8930584459, 8930584457, 8930584456, 5611123299, 8930584454, 5611123300, 5611123301, 8932878698, 5611123302, 8934445247, 5611123291], 'tags': {'addr:housenumber': '560', 'addr:street': 'Sydney Road', 'amenity': 'school', 'denomination': 'catholic', 'email': 'office@spcoburg.catholic.edu.au', 'grades': '0-6', 'isced:level': '1', 'name': \"St Paul's Primary School\", 'operator': 'Melbourne Archdiocese Catholic Schools', 'operator:short': 'MACS', 'operator:type': 'religious', 'operator:wikidata': 'Q100769882', 'phone': '+61 3 9354 8970', 'religion': 'christian', 'website': 'https://spcoburg.catholic.edu.au/'}}, {'type': 'relation', 'id': 18009427, 'members': [{'type': 'way', 'ref': 1313409567, 'role': 'outer'}], 'tags': {'addr:housenumber': '56', 'addr:street': 'Bakers Road', 'alt_name': 'AIA Melbourne Senior Campus', 'amenity': 'school', 'grades': '6-12', 'isced:level': '2-3', 'name': 'Australian International Academy Melbourne Senior Campus', 'old_name': 'King Khalid College', 'operator': 'Australian International Academy of Education Incorporated', 'operator:type': 'private', 'religion': 'muslim', 'type': 'multipolygon', 'wikidata': 'Q4824327'}}]\n",
      "Mercy College: Coordinates: None, None\n",
      "Coburg North Primary School: Coordinates: None, None\n",
      "Australian International Academy King Khalid Coburg Campus: Coordinates: None, None\n",
      "Coburg Special Development School: Coordinates: None, None\n",
      "St Paul's Primary School: Coordinates: None, None\n",
      "Australian International Academy Melbourne Senior Campus: Coordinates: None, None\n"
     ]
    }
   ],
   "source": [
    "address = \"40 Higinbotham Street, Coburg VIC 3058, Australia\"\n",
    "location_type = \"schools\"  # Change this to your desired type (schools, parks, etc.)\n",
    "\n",
    "lat, lon = get_coordinates(address)\n",
    "print(f\"Coordinates of {address}: {lat}, {lon}\")\n",
    "\n",
    "locations = find_nearby_locations(lat, lon, location_type)\n",
    "\n",
    "print(locations)\n",
    "\n",
    "if locations:\n",
    "    for loc in locations:\n",
    "        if 'tags' in loc:\n",
    "            name = loc['tags'].get('name', 'Unnamed Location')\n",
    "            location_lat = loc.get('lat')\n",
    "            location_lon = loc.get('lon')\n",
    "            print(f\"{name}: Coordinates: {location_lat}, {location_lon}\")\n",
    "            \n",
    "        else:\n",
    "            print(f\"No {location_type} found nearby.\")"
   ]
  }
 ],
 "metadata": {
  "kernelspec": {
   "display_name": "Python 3",
   "language": "python",
   "name": "python3"
  },
  "language_info": {
   "codemirror_mode": {
    "name": "ipython",
    "version": 3
   },
   "file_extension": ".py",
   "mimetype": "text/x-python",
   "name": "python",
   "nbconvert_exporter": "python",
   "pygments_lexer": "ipython3",
   "version": "3.10.12"
  }
 },
 "nbformat": 4,
 "nbformat_minor": 2
}
