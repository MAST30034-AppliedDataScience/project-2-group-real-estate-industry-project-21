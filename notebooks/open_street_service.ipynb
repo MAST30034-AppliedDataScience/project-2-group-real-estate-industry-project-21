{
 "cells": [
  {
   "cell_type": "markdown",
   "metadata": {},
   "source": [
    "### Open Street Service Notebook\n",
    "\n",
    "Coded up with help of Chatgpt\n"
   ]
  },
  {
   "cell_type": "code",
   "execution_count": 8,
   "metadata": {},
   "outputs": [],
   "source": [
    "# Melbourne CBD Coords (LAT, LONG)\n",
    "\n",
    "coords_cbd = [-37.8124, 144.9623]"
   ]
  },
  {
   "cell_type": "code",
   "execution_count": 4,
   "metadata": {},
   "outputs": [
    {
     "name": "stdout",
     "output_type": "stream",
     "text": [
      "Coordinates of 40 Higinbotham Street, Coburg VIC 3058, Australia: -37.7350672, 144.9582717\n"
     ]
    }
   ],
   "source": [
    "from geopy.geocoders import Nominatim\n",
    "import requests\n",
    "import folium\n",
    "\n",
    "def get_coordinates(address):\n",
    "    geolocator = Nominatim(user_agent=\"myGeocoder\")\n",
    "    location = geolocator.geocode(address)\n",
    "    return (location.latitude, location.longitude)\n",
    "\n",
    "\n",
    "def find_nearby_locations(lat, lon, location_type):\n",
    "    tags = {\n",
    "        \"schools\": '[\"amenity\"=\"school\"]',\n",
    "        \"parks\": '[\"leisure\"=\"park\"]',\n",
    "        \"supermarkets\": '[\"shop\"=\"supermarket\"]',\n",
    "        \"shopping_districts\": '[\"shop\"=\"mall\"]',\n",
    "        \"train_stations\": '[\"railway\"=\"station\"]',\n",
    "        \"hospitals\": '[\"amenity\"=\"hospital\"]'\n",
    "    }\n",
    "    \n",
    "    query = f\"\"\"\n",
    "    [out:json];\n",
    "    (\n",
    "      node{tags[location_type]}(around:1000,{lat},{lon});\n",
    "      way{tags[location_type]}(around:1000,{lat},{lon});\n",
    "      relation{tags[location_type]}(around:1000,{lat},{lon});\n",
    "    );\n",
    "    out body;\n",
    "    \"\"\"\n",
    "    response = requests.get('http://overpass-api.de/api/interpreter', params={'data': query})\n",
    "    data = response.json()\n",
    "    return data['elements']\n",
    "\n",
    "address = \"40 Higinbotham Street, Coburg VIC 3058, Australia\"\n",
    "location_types = [\"schools\", \"parks\", \"supermarkets\", \"shopping_districts\", \"train_stations\", \"hospitals\"]  # Change this to your desired type (schools, parks, etc.)\n",
    "\n",
    "lat, lon = get_coordinates(address)\n",
    "print(f\"Coordinates of {address}: {lat}, {lon}\")"
   ]
  },
  {
   "cell_type": "markdown",
   "metadata": {},
   "source": [
    "### Process each Location"
   ]
  },
  {
   "cell_type": "code",
   "execution_count": 13,
   "metadata": {},
   "outputs": [],
   "source": [
    "\n",
    "def process_locations(locations):\n",
    "    \n",
    "    # Dictionary to store valid locations\n",
    "    valid_locations = []\n",
    "    \n",
    "    for loc in locations:\n",
    "        \n",
    "        if 'tags' in loc:\n",
    "            name = loc['tags'].get('name')\n",
    "            location_lat = loc.get('lat')\n",
    "            location_lon = loc.get('lon')\n",
    "\n",
    "            # Get the address information from tags if available\n",
    "            \n",
    "            # Dummy postcode for now \n",
    "            postcode = -1\n",
    "            \n",
    "            street_number = loc['tags'].get('addr:housenumber')\n",
    "            street = loc['tags'].get('addr:street')\n",
    "            postcode = loc['tags'].get('addr:postcode')\n",
    "\n",
    "            # Construct the address\n",
    "            address = f\"{street_number} {street}, {postcode}\" if street_number and street else None\n",
    "            \n",
    "            # Filter locations with either coordinates or address\n",
    "            if (location_lat and location_lon) or address:\n",
    "                valid_locations.append({\n",
    "                    'name': name or \"Unnamed Location\",\n",
    "                    'lat': location_lat,\n",
    "                    'lon': location_lon,\n",
    "                    'address': address\n",
    "                })\n",
    "    \n",
    "    return valid_locations\n",
    "\n"
   ]
  },
  {
   "cell_type": "markdown",
   "metadata": {},
   "source": [
    "### Test the code"
   ]
  },
  {
   "cell_type": "code",
   "execution_count": 16,
   "metadata": {},
   "outputs": [
    {
     "name": "stdout",
     "output_type": "stream",
     "text": [
      "\n",
      "Location Type is: schools\n",
      "\n",
      "\n",
      "Location Type is: parks\n",
      "\n",
      "\n",
      "Location Type is: supermarkets\n",
      "\n",
      "\n",
      "Location Type is: shopping_districts\n",
      "\n",
      "\n",
      "Location Type is: train_stations\n",
      "\n",
      "\n",
      "Location Type is: hospitals\n",
      "\n",
      "{'schools': {'count': 6, 'locations': [{'name': 'Mercy College', 'lat': None, 'lon': None, 'address': '760 Sydney Road, None'}, {'name': 'Coburg North Primary School', 'lat': None, 'lon': None, 'address': \"180 O'Hea Street, None\"}, {'name': 'Australian International Academy King Khalid Coburg Campus', 'lat': None, 'lon': None, 'address': '653 Sydney Road, None'}, {'name': 'Coburg Special Development School', 'lat': None, 'lon': None, 'address': '193-195 Gaffney Street, None'}, {'name': \"St Paul's Primary School\", 'lat': None, 'lon': None, 'address': '560 Sydney Road, None'}, {'name': 'Australian International Academy Melbourne Senior Campus', 'lat': None, 'lon': None, 'address': '56 Bakers Road, None'}]}, 'parks': {'count': 32, 'locations': [{'name': 'Richards Reserve', 'lat': None, 'lon': None, 'address': '30-34 Charles Street, 3058'}]}, 'supermarkets': {'count': 4, 'locations': [{'name': 'Coles', 'lat': -37.7315658, 'lon': 144.9503452, 'address': '180 Gaffney Street, None'}, {'name': 'Richies IGA Fine Food and Wine Merchants', 'lat': -37.7363922, 'lon': 144.9691528, 'address': None}, {'name': 'Mahalaxmi Grocery and convenience store', 'lat': -37.7419633, 'lon': 144.9652844, 'address': None}, {'name': \"Sacca's Fine Foods\", 'lat': None, 'lon': None, 'address': '172 Gaffney Street, 3058'}]}, 'shopping_districts': {'count': 1, 'locations': []}, 'train_stations': {'count': 2, 'locations': [{'name': 'Batman', 'lat': -37.7335442, 'lon': 144.9628427, 'address': None}]}}\n"
     ]
    }
   ],
   "source": [
    "summary = {}\n",
    "  \n",
    "for location_type in location_types: \n",
    "    print(f\"\\nLocation Type is: {location_type}\\n\" )\n",
    "    \n",
    "    locations = find_nearby_locations(lat, lon, location_type)\n",
    "\n",
    "    if locations:    \n",
    "        valid_locations = process_locations(locations)\n",
    "\n",
    "        summary[location_type] = {\n",
    "            'count': len(locations),  # Count of locations\n",
    "            'locations': valid_locations    # List of valid locations with coords or address\n",
    "        }\n",
    "        \n",
    "print(summary)"
   ]
  },
  {
   "cell_type": "markdown",
   "metadata": {},
   "source": [
    "### How to encode the info\n",
    "\n",
    "How are we going to use this data? \n",
    "\n",
    "searching for places within the 1km radius of the house\n",
    "\n",
    "Need to be able to get the coords of the place so can work out distance + route(?) by car to both train station and CBD + \n",
    "- Train stations \n",
    "- CBD\n",
    "- parks\n",
    "- hosptials\n",
    "- supermarkets\n",
    "- schools\n",
    "- shopping districts\n",
    "\n",
    "\n",
    "\n",
    "- get a rough estimate for the amount of each within the 1km radius (just a count)\n",
    "- Also only print off/ Store the information of the places with either the coords or the address... \n",
    "\n"
   ]
  }
 ],
 "metadata": {
  "kernelspec": {
   "display_name": "Python 3",
   "language": "python",
   "name": "python3"
  },
  "language_info": {
   "codemirror_mode": {
    "name": "ipython",
    "version": 3
   },
   "file_extension": ".py",
   "mimetype": "text/x-python",
   "name": "python",
   "nbconvert_exporter": "python",
   "pygments_lexer": "ipython3",
   "version": "3.10.12"
  }
 },
 "nbformat": 4,
 "nbformat_minor": 2
}
