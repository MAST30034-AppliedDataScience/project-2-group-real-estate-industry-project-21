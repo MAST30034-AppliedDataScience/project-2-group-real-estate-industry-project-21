{
 "cells": [
  {
   "cell_type": "markdown",
   "metadata": {},
   "source": [
    "# Download External Datasets\n",
    "Download external datasets into landing folder (no pre-processing)"
   ]
  },
  {
   "cell_type": "code",
   "execution_count": 1,
   "metadata": {},
   "outputs": [],
   "source": [
    "import os\n",
    "from urllib.request import urlretrieve\n",
    "import zipfile"
   ]
  },
  {
   "cell_type": "markdown",
   "metadata": {},
   "source": [
    "## ABS SA2 Boundary Shapefile"
   ]
  },
  {
   "cell_type": "code",
   "execution_count": 2,
   "metadata": {},
   "outputs": [],
   "source": [
    "url = \"https://www.abs.gov.au/statistics/standards/australian-statistical-geography-standard-asgs-edition-3/jul2021-jun2026/access-and-downloads/digital-boundary-files/SA2_2021_AUST_SHP_GDA2020.zip\"\n",
    "\n",
    "output_relative_dir = \"../data/landing/sa2_data/boundary\"\n",
    "\n",
    "# Create a new sub-folder if one doesn't already exist\n",
    "if not os.path.exists(output_relative_dir):\n",
    "    os.makedirs(output_relative_dir)\n",
    "\n",
    "output = f\"{output_relative_dir}/sa2_boundary_2021.zip\"\n",
    "\n",
    "# Download file\n",
    "urlretrieve(url, output)\n",
    "\n",
    "# Unzip file\n",
    "with zipfile.ZipFile(output, \"r\") as zf:\n",
    "    zf.extractall(output_relative_dir)"
   ]
  },
  {
   "cell_type": "markdown",
   "metadata": {},
   "source": [
    "## ABS SA2 Historical Population Data"
   ]
  },
  {
   "cell_type": "code",
   "execution_count": 3,
   "metadata": {},
   "outputs": [
    {
     "data": {
      "text/plain": [
       "('../data/landing/sa2_data/sa2_population_2001-23.xlsx',\n",
       " <http.client.HTTPMessage at 0x7f1a7ef9b280>)"
      ]
     },
     "execution_count": 3,
     "metadata": {},
     "output_type": "execute_result"
    }
   ],
   "source": [
    "url = \"https://www.abs.gov.au/statistics/people/population/regional-population/2022-23/32180DS0003_2001-23.xlsx\"\n",
    "\n",
    "output_relative_dir = \"../data/landing/sa2_data\"\n",
    "\n",
    "# Create a new sub-folder if one doesn't already exist\n",
    "if not os.path.exists(output_relative_dir):\n",
    "    os.makedirs(output_relative_dir)\n",
    "\n",
    "output = f\"{output_relative_dir}/sa2_population_2001-23.xlsx\"\n",
    "\n",
    "# Download file\n",
    "urlretrieve(url, output)"
   ]
  },
  {
   "cell_type": "markdown",
   "metadata": {},
   "source": [
    "## ABS SA2 Income Data"
   ]
  },
  {
   "cell_type": "code",
   "execution_count": 4,
   "metadata": {},
   "outputs": [
    {
     "data": {
      "text/plain": [
       "('../data/landing/sa2_data/sa2_income_2021.xlsx',\n",
       " <http.client.HTTPMessage at 0x7f1a7e63d4b0>)"
      ]
     },
     "execution_count": 4,
     "metadata": {},
     "output_type": "execute_result"
    }
   ],
   "source": [
    "url = \"https://www.abs.gov.au/statistics/labour/earnings-and-working-conditions/personal-income-australia/2020-21-financial-year/Table%202%20-%20Total%20income%20distribution%20by%20geography%2C%202020-21.xlsx\"\n",
    "\n",
    "output_relative_dir = \"../data/landing/sa2_data\"\n",
    "\n",
    "# Create a new sub-folder if one doesn't already exist\n",
    "if not os.path.exists(output_relative_dir):\n",
    "    os.makedirs(output_relative_dir)\n",
    "\n",
    "output = f\"{output_relative_dir}/sa2_income_2021.xlsx\"\n",
    "\n",
    "# Download file\n",
    "urlretrieve(url, output)"
   ]
  },
  {
   "cell_type": "markdown",
   "metadata": {},
   "source": [
    "## Department of Education School Location Data"
   ]
  },
  {
   "cell_type": "code",
   "execution_count": 5,
   "metadata": {},
   "outputs": [
    {
     "data": {
      "text/plain": [
       "('../data/landing/school_data/school_location.csv',\n",
       " <http.client.HTTPMessage at 0x7f1a7e64a590>)"
      ]
     },
     "execution_count": 5,
     "metadata": {},
     "output_type": "execute_result"
    }
   ],
   "source": [
    "url = \"https://www.education.vic.gov.au/Documents/about/research/datavic/dv346-schoollocations2023.csv\"\n",
    "\n",
    "output_relative_dir = \"../data/landing/school_data\"\n",
    "\n",
    "# Create a new sub-folder if one doesn't already exist\n",
    "if not os.path.exists(output_relative_dir):\n",
    "    os.makedirs(output_relative_dir)\n",
    "\n",
    "output = f\"{output_relative_dir}/school_location.csv\"\n",
    "\n",
    "# Download file\n",
    "urlretrieve(url, output)"
   ]
  }
 ],
 "metadata": {
  "kernelspec": {
   "display_name": "Python 3",
   "language": "python",
   "name": "python3"
  },
  "language_info": {
   "codemirror_mode": {
    "name": "ipython",
    "version": 3
   },
   "file_extension": ".py",
   "mimetype": "text/x-python",
   "name": "python",
   "nbconvert_exporter": "python",
   "pygments_lexer": "ipython3",
   "version": "3.10.12"
  }
 },
 "nbformat": 4,
 "nbformat_minor": 2
}
