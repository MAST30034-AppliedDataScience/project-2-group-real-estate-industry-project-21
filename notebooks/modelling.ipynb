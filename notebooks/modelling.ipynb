{
 "cells": [
  {
   "cell_type": "code",
   "execution_count": 171,
   "metadata": {},
   "outputs": [],
   "source": [
    "from pyspark.sql import SparkSession, DataFrame\n",
    "from pyspark.ml.feature import VectorAssembler, StandardScaler\n",
    "from pyspark.ml.regression import LinearRegression, GBTRegressor\n",
    "from pyspark.ml.evaluation import RegressionEvaluator\n",
    "from pyspark.sql.functions import col\n",
    "import pandas as pd\n",
    "import matplotlib.pyplot as plt\n",
    "import seaborn as sns\n",
    "from pyspark.sql import functions as F"
   ]
  },
  {
   "cell_type": "code",
   "execution_count": 150,
   "metadata": {},
   "outputs": [],
   "source": [
    "# Initialize Spark session\n",
    "spark = (\n",
    "    SparkSession.builder.appName(\"MAST30034 Project 2\")\n",
    "    .config(\"spark.sql.repl.eagerEval.enabled\", True)\n",
    "    .config(\"spark.sql.parquet.cacheMetadata\", \"true\")\n",
    "    .config(\"spark.sql.session.timeZone\", \"Etc/UTC\")\n",
    "    .getOrCreate()\n",
    ")"
   ]
  },
  {
   "cell_type": "code",
   "execution_count": 151,
   "metadata": {},
   "outputs": [
    {
     "name": "stdout",
     "output_type": "stream",
     "text": [
      "root\n",
      " |-- name: string (nullable = true)\n",
      " |-- property_url: string (nullable = true)\n",
      " |-- beds: integer (nullable = true)\n",
      " |-- baths: integer (nullable = true)\n",
      " |-- parkings: integer (nullable = true)\n",
      " |-- cost: integer (nullable = true)\n",
      " |-- postal_code: integer (nullable = true)\n",
      " |-- built_in_wardrobes: integer (nullable = true)\n",
      " |-- dishwasher: integer (nullable = true)\n",
      " |-- air_conditioning: integer (nullable = true)\n",
      " |-- floorboards: integer (nullable = true)\n",
      " |-- secure_parking: integer (nullable = true)\n",
      " |-- intercom: integer (nullable = true)\n",
      " |-- heating: integer (nullable = true)\n",
      " |-- ensuite: integer (nullable = true)\n",
      " |-- balcony_deck: integer (nullable = true)\n",
      " |-- gym: integer (nullable = true)\n",
      " |-- furnished: integer (nullable = true)\n",
      " |-- close_to_shops: integer (nullable = true)\n",
      " |-- close_to_transport: integer (nullable = true)\n",
      " |-- fully_fenced: integer (nullable = true)\n",
      " |-- close_to_schools: integer (nullable = true)\n",
      " |-- ducted_heating: integer (nullable = true)\n",
      " |-- split_system_heating: integer (nullable = true)\n",
      " |-- swimming_pool: integer (nullable = true)\n",
      " |-- remote_garage: integer (nullable = true)\n",
      " |-- balcony: integer (nullable = true)\n",
      " |-- study: integer (nullable = true)\n",
      " |-- garden_courtyard: integer (nullable = true)\n",
      " |-- pets_allowed: integer (nullable = true)\n",
      " |-- internal_laundry: integer (nullable = true)\n",
      " |-- alarm_system: integer (nullable = true)\n",
      " |-- prop_type_index: double (nullable = true)\n",
      " |-- parks: double (nullable = true)\n",
      " |-- schools: double (nullable = true)\n",
      " |-- supermarkets: double (nullable = true)\n",
      " |-- hospitals: double (nullable = true)\n",
      " |-- shopping_districts: double (nullable = true)\n",
      " |-- CBD: double (nullable = true)\n",
      " |-- train_stations: double (nullable = true)\n",
      "\n"
     ]
    }
   ],
   "source": [
    "# Read the Parquet file into a Spark DataFrame\n",
    "sdf = spark.read.parquet(\"../data/curated/prop_data_cleaned2.parquet\")\n",
    "sdf.printSchema()"
   ]
  },
  {
   "cell_type": "code",
   "execution_count": 152,
   "metadata": {},
   "outputs": [
    {
     "name": "stdout",
     "output_type": "stream",
     "text": [
      "Shape of the DataFrame: 11131 rows, 40 columns.\n"
     ]
    }
   ],
   "source": [
    "def shape(sdf: DataFrame) -> None:\n",
    "    \"\"\"\n",
    "    Returns the shape of a Spark DataFrame as a tuple (number of rows, number of columns).\n",
    "    \"\"\"\n",
    "    num_rows = sdf.count()\n",
    "    num_columns = len(sdf.columns)\n",
    "    print(f\"Shape of the DataFrame: {num_rows} rows, {num_columns} columns.\")\n",
    "\n",
    "shape(sdf)"
   ]
  },
  {
   "cell_type": "code",
   "execution_count": 153,
   "metadata": {},
   "outputs": [
    {
     "data": {
      "text/plain": [
       "['name',\n",
       " 'property_url',\n",
       " 'beds',\n",
       " 'baths',\n",
       " 'parkings',\n",
       " 'cost',\n",
       " 'postal_code',\n",
       " 'built_in_wardrobes',\n",
       " 'dishwasher',\n",
       " 'air_conditioning',\n",
       " 'floorboards',\n",
       " 'secure_parking',\n",
       " 'intercom',\n",
       " 'heating',\n",
       " 'ensuite',\n",
       " 'balcony_deck',\n",
       " 'gym',\n",
       " 'furnished',\n",
       " 'close_to_shops',\n",
       " 'close_to_transport',\n",
       " 'fully_fenced',\n",
       " 'close_to_schools',\n",
       " 'ducted_heating',\n",
       " 'split_system_heating',\n",
       " 'swimming_pool',\n",
       " 'remote_garage',\n",
       " 'balcony',\n",
       " 'study',\n",
       " 'garden_courtyard',\n",
       " 'pets_allowed',\n",
       " 'internal_laundry',\n",
       " 'alarm_system',\n",
       " 'prop_type_index',\n",
       " 'parks',\n",
       " 'schools',\n",
       " 'supermarkets',\n",
       " 'hospitals',\n",
       " 'shopping_districts',\n",
       " 'CBD',\n",
       " 'train_stations']"
      ]
     },
     "execution_count": 153,
     "metadata": {},
     "output_type": "execute_result"
    }
   ],
   "source": [
    "sdf.columns"
   ]
  },
  {
   "cell_type": "code",
   "execution_count": 154,
   "metadata": {},
   "outputs": [],
   "source": [
    "# Select relevant features for the model\n",
    "feature_columns = [\n",
    "    'beds', 'baths', 'parkings', 'postal_code', 'built_in_wardrobes', 'dishwasher', \n",
    "    'air_conditioning', 'floorboards', 'secure_parking', 'intercom', \n",
    "    'heating', 'ensuite', 'balcony_deck', 'gym', 'furnished', \n",
    "    'close_to_shops', 'close_to_transport', 'fully_fenced', \n",
    "    'close_to_schools', 'ducted_heating', 'split_system_heating', \n",
    "    'swimming_pool', 'remote_garage', 'balcony', 'study', \n",
    "    'garden_courtyard', 'pets_allowed', 'internal_laundry', \n",
    "    'alarm_system', 'prop_type_index', 'parks', 'schools', \n",
    "    'supermarkets', 'hospitals', 'shopping_districts', 'CBD', \n",
    "    'train_stations'\n",
    "]"
   ]
  },
  {
   "cell_type": "code",
   "execution_count": 155,
   "metadata": {},
   "outputs": [],
   "source": [
    "# feature_columns = [\n",
    "#     'beds', 'baths', 'parkings', 'prop_type_index',\n",
    "#     #'parks', 'schools', 'supermarkets', 'hospitals', 'shopping_districts', 'CBD', 'train_stations'\n",
    "# ]"
   ]
  },
  {
   "cell_type": "code",
   "execution_count": 156,
   "metadata": {},
   "outputs": [],
   "source": [
    "# Create a VectorAssembler to combine feature columns into a single vector\n",
    "assembler = VectorAssembler(inputCols=feature_columns, outputCol='features')\n",
    "\n",
    "# Transform the features into a single vector column\n",
    "data = sdf.select('cost', *feature_columns)\n",
    "data = assembler.transform(data)"
   ]
  },
  {
   "cell_type": "code",
   "execution_count": 157,
   "metadata": {},
   "outputs": [],
   "source": [
    "# Create a StandardScaler instance\n",
    "scaler = StandardScaler(inputCol='features', outputCol='scaled_features', withMean=True, withStd=True)\n",
    "\n",
    "# Fit the scaler to the data\n",
    "scaler_model = scaler.fit(data)\n",
    "\n",
    "# Transform the data using the fitted scaler\n",
    "data = scaler_model.transform(data)"
   ]
  },
  {
   "cell_type": "code",
   "execution_count": 158,
   "metadata": {},
   "outputs": [],
   "source": [
    "# Split the data into training and test sets\n",
    "train_data, test_data = data.randomSplit([0.7, 0.3], seed=1003)"
   ]
  },
  {
   "cell_type": "code",
   "execution_count": 159,
   "metadata": {},
   "outputs": [
    {
     "name": "stderr",
     "output_type": "stream",
     "text": [
      "24/10/01 22:04:15 WARN Instrumentation: [25d8309d] regParam is zero, which might cause numerical instability and overfitting.\n",
      "                                                                                \r"
     ]
    }
   ],
   "source": [
    "# Initialize the Linear Regression model\n",
    "lr = LinearRegression(featuresCol='scaled_features', labelCol='cost')\n",
    "\n",
    "# Fit the model to the training data\n",
    "lr_model = lr.fit(train_data)"
   ]
  },
  {
   "cell_type": "code",
   "execution_count": 160,
   "metadata": {},
   "outputs": [
    {
     "name": "stdout",
     "output_type": "stream",
     "text": [
      "Intercept: 630.7332393275424\n",
      "RMSE: 198.05758093661768\n",
      "r2: 0.33948605525424447\n"
     ]
    },
    {
     "name": "stdout",
     "output_type": "stream",
     "text": [
      "Test RMSE:  197.65633293471066\n",
      "Test r2:  0.32895131356082263\n"
     ]
    },
    {
     "data": {
      "text/html": [
       "<div>\n",
       "<style scoped>\n",
       "    .dataframe tbody tr th:only-of-type {\n",
       "        vertical-align: middle;\n",
       "    }\n",
       "\n",
       "    .dataframe tbody tr th {\n",
       "        vertical-align: top;\n",
       "    }\n",
       "\n",
       "    .dataframe thead th {\n",
       "        text-align: right;\n",
       "    }\n",
       "</style>\n",
       "<table border=\"1\" class=\"dataframe\">\n",
       "  <thead>\n",
       "    <tr style=\"text-align: right;\">\n",
       "      <th></th>\n",
       "      <th>feature</th>\n",
       "      <th>coefficient</th>\n",
       "    </tr>\n",
       "  </thead>\n",
       "  <tbody>\n",
       "    <tr>\n",
       "      <th>1</th>\n",
       "      <td>baths</td>\n",
       "      <td>86.062369</td>\n",
       "    </tr>\n",
       "    <tr>\n",
       "      <th>0</th>\n",
       "      <td>beds</td>\n",
       "      <td>65.348668</td>\n",
       "    </tr>\n",
       "    <tr>\n",
       "      <th>21</th>\n",
       "      <td>swimming_pool</td>\n",
       "      <td>23.576499</td>\n",
       "    </tr>\n",
       "    <tr>\n",
       "      <th>14</th>\n",
       "      <td>furnished</td>\n",
       "      <td>22.116835</td>\n",
       "    </tr>\n",
       "    <tr>\n",
       "      <th>24</th>\n",
       "      <td>study</td>\n",
       "      <td>18.207476</td>\n",
       "    </tr>\n",
       "    <tr>\n",
       "      <th>12</th>\n",
       "      <td>balcony_deck</td>\n",
       "      <td>18.058106</td>\n",
       "    </tr>\n",
       "    <tr>\n",
       "      <th>5</th>\n",
       "      <td>dishwasher</td>\n",
       "      <td>16.457324</td>\n",
       "    </tr>\n",
       "    <tr>\n",
       "      <th>7</th>\n",
       "      <td>floorboards</td>\n",
       "      <td>14.978747</td>\n",
       "    </tr>\n",
       "    <tr>\n",
       "      <th>23</th>\n",
       "      <td>balcony</td>\n",
       "      <td>14.816769</td>\n",
       "    </tr>\n",
       "    <tr>\n",
       "      <th>25</th>\n",
       "      <td>garden_courtyard</td>\n",
       "      <td>12.382335</td>\n",
       "    </tr>\n",
       "    <tr>\n",
       "      <th>19</th>\n",
       "      <td>ducted_heating</td>\n",
       "      <td>12.340649</td>\n",
       "    </tr>\n",
       "    <tr>\n",
       "      <th>9</th>\n",
       "      <td>intercom</td>\n",
       "      <td>10.383916</td>\n",
       "    </tr>\n",
       "    <tr>\n",
       "      <th>6</th>\n",
       "      <td>air_conditioning</td>\n",
       "      <td>7.901760</td>\n",
       "    </tr>\n",
       "    <tr>\n",
       "      <th>16</th>\n",
       "      <td>close_to_transport</td>\n",
       "      <td>6.013800</td>\n",
       "    </tr>\n",
       "    <tr>\n",
       "      <th>26</th>\n",
       "      <td>pets_allowed</td>\n",
       "      <td>4.210978</td>\n",
       "    </tr>\n",
       "    <tr>\n",
       "      <th>13</th>\n",
       "      <td>gym</td>\n",
       "      <td>2.756258</td>\n",
       "    </tr>\n",
       "    <tr>\n",
       "      <th>8</th>\n",
       "      <td>secure_parking</td>\n",
       "      <td>2.637195</td>\n",
       "    </tr>\n",
       "    <tr>\n",
       "      <th>10</th>\n",
       "      <td>heating</td>\n",
       "      <td>2.100999</td>\n",
       "    </tr>\n",
       "    <tr>\n",
       "      <th>28</th>\n",
       "      <td>alarm_system</td>\n",
       "      <td>1.361150</td>\n",
       "    </tr>\n",
       "    <tr>\n",
       "      <th>34</th>\n",
       "      <td>shopping_districts</td>\n",
       "      <td>1.299213</td>\n",
       "    </tr>\n",
       "    <tr>\n",
       "      <th>15</th>\n",
       "      <td>close_to_shops</td>\n",
       "      <td>1.286691</td>\n",
       "    </tr>\n",
       "    <tr>\n",
       "      <th>36</th>\n",
       "      <td>train_stations</td>\n",
       "      <td>1.139416</td>\n",
       "    </tr>\n",
       "    <tr>\n",
       "      <th>35</th>\n",
       "      <td>CBD</td>\n",
       "      <td>0.737445</td>\n",
       "    </tr>\n",
       "    <tr>\n",
       "      <th>30</th>\n",
       "      <td>parks</td>\n",
       "      <td>0.620419</td>\n",
       "    </tr>\n",
       "    <tr>\n",
       "      <th>33</th>\n",
       "      <td>hospitals</td>\n",
       "      <td>0.449765</td>\n",
       "    </tr>\n",
       "    <tr>\n",
       "      <th>31</th>\n",
       "      <td>schools</td>\n",
       "      <td>0.219249</td>\n",
       "    </tr>\n",
       "    <tr>\n",
       "      <th>32</th>\n",
       "      <td>supermarkets</td>\n",
       "      <td>-0.946533</td>\n",
       "    </tr>\n",
       "    <tr>\n",
       "      <th>2</th>\n",
       "      <td>parkings</td>\n",
       "      <td>-1.362781</td>\n",
       "    </tr>\n",
       "    <tr>\n",
       "      <th>20</th>\n",
       "      <td>split_system_heating</td>\n",
       "      <td>-3.963486</td>\n",
       "    </tr>\n",
       "    <tr>\n",
       "      <th>18</th>\n",
       "      <td>close_to_schools</td>\n",
       "      <td>-5.798425</td>\n",
       "    </tr>\n",
       "    <tr>\n",
       "      <th>27</th>\n",
       "      <td>internal_laundry</td>\n",
       "      <td>-7.796641</td>\n",
       "    </tr>\n",
       "    <tr>\n",
       "      <th>17</th>\n",
       "      <td>fully_fenced</td>\n",
       "      <td>-9.858313</td>\n",
       "    </tr>\n",
       "    <tr>\n",
       "      <th>29</th>\n",
       "      <td>prop_type_index</td>\n",
       "      <td>-11.539413</td>\n",
       "    </tr>\n",
       "    <tr>\n",
       "      <th>22</th>\n",
       "      <td>remote_garage</td>\n",
       "      <td>-12.346140</td>\n",
       "    </tr>\n",
       "    <tr>\n",
       "      <th>3</th>\n",
       "      <td>postal_code</td>\n",
       "      <td>-15.330594</td>\n",
       "    </tr>\n",
       "    <tr>\n",
       "      <th>11</th>\n",
       "      <td>ensuite</td>\n",
       "      <td>-15.395364</td>\n",
       "    </tr>\n",
       "    <tr>\n",
       "      <th>4</th>\n",
       "      <td>built_in_wardrobes</td>\n",
       "      <td>-21.367167</td>\n",
       "    </tr>\n",
       "  </tbody>\n",
       "</table>\n",
       "</div>"
      ],
      "text/plain": [
       "                 feature  coefficient\n",
       "1                  baths    86.062369\n",
       "0                   beds    65.348668\n",
       "21         swimming_pool    23.576499\n",
       "14             furnished    22.116835\n",
       "24                 study    18.207476\n",
       "12          balcony_deck    18.058106\n",
       "5             dishwasher    16.457324\n",
       "7            floorboards    14.978747\n",
       "23               balcony    14.816769\n",
       "25      garden_courtyard    12.382335\n",
       "19        ducted_heating    12.340649\n",
       "9               intercom    10.383916\n",
       "6       air_conditioning     7.901760\n",
       "16    close_to_transport     6.013800\n",
       "26          pets_allowed     4.210978\n",
       "13                   gym     2.756258\n",
       "8         secure_parking     2.637195\n",
       "10               heating     2.100999\n",
       "28          alarm_system     1.361150\n",
       "34    shopping_districts     1.299213\n",
       "15        close_to_shops     1.286691\n",
       "36        train_stations     1.139416\n",
       "35                   CBD     0.737445\n",
       "30                 parks     0.620419\n",
       "33             hospitals     0.449765\n",
       "31               schools     0.219249\n",
       "32          supermarkets    -0.946533\n",
       "2               parkings    -1.362781\n",
       "20  split_system_heating    -3.963486\n",
       "18      close_to_schools    -5.798425\n",
       "27      internal_laundry    -7.796641\n",
       "17          fully_fenced    -9.858313\n",
       "29       prop_type_index   -11.539413\n",
       "22         remote_garage   -12.346140\n",
       "3            postal_code   -15.330594\n",
       "11               ensuite   -15.395364\n",
       "4     built_in_wardrobes   -21.367167"
      ]
     },
     "execution_count": 160,
     "metadata": {},
     "output_type": "execute_result"
    }
   ],
   "source": [
    "# Print model summary\n",
    "print(\"Intercept: \" + str(lr_model.intercept))\n",
    "print(\"RMSE: \" + str(lr_model.summary.rootMeanSquaredError))\n",
    "print(\"r2: \" + str(lr_model.summary.r2))\n",
    "\n",
    "# Get the coefficients and feature names\n",
    "coefficients = lr_model.coefficients.toArray()\n",
    "feature_names = feature_columns\n",
    "\n",
    "# Create a DataFrame from the coefficients and feature names\n",
    "coefficients_df = pd.DataFrame({\n",
    "    'feature': feature_names,\n",
    "    'coefficient': coefficients\n",
    "})\n",
    "\n",
    "# Sort the DataFrame by the 'coefficient' column in decreasing order\n",
    "coefficients_df = coefficients_df.sort_values(by='coefficient', ascending=False)\n",
    "\n",
    "# Evaluate the model on the test data\n",
    "test_results = lr_model.evaluate(test_data)\n",
    "\n",
    "# Print evaluation metrics\n",
    "print(\"Test RMSE: \", test_results.rootMeanSquaredError)\n",
    "print(\"Test r2: \", test_results.r2)\n",
    "\n",
    "coefficients_df"
   ]
  },
  {
   "cell_type": "code",
   "execution_count": 161,
   "metadata": {},
   "outputs": [],
   "source": [
    "# Initialize the Lasso Regression model\n",
    "lasso = LinearRegression(featuresCol='features', labelCol='cost', elasticNetParam=0.5, regParam=0.1)\n",
    "\n",
    "# Fit the model to the data\n",
    "lasso_model = lasso.fit(train_data)"
   ]
  },
  {
   "cell_type": "code",
   "execution_count": 162,
   "metadata": {},
   "outputs": [
    {
     "name": "stdout",
     "output_type": "stream",
     "text": [
      "Intercept: 429.3758445554193\n",
      "RMSE: 198.05805703439836\n",
      "r2: 0.33948287971711344\n",
      "Lasso Test RMSE:  197.64621618773725\n",
      "Lasso Test r2:  0.3290200050712705\n"
     ]
    },
    {
     "data": {
      "text/html": [
       "<div>\n",
       "<style scoped>\n",
       "    .dataframe tbody tr th:only-of-type {\n",
       "        vertical-align: middle;\n",
       "    }\n",
       "\n",
       "    .dataframe tbody tr th {\n",
       "        vertical-align: top;\n",
       "    }\n",
       "\n",
       "    .dataframe thead th {\n",
       "        text-align: right;\n",
       "    }\n",
       "</style>\n",
       "<table border=\"1\" class=\"dataframe\">\n",
       "  <thead>\n",
       "    <tr style=\"text-align: right;\">\n",
       "      <th></th>\n",
       "      <th>feature</th>\n",
       "      <th>coefficient</th>\n",
       "    </tr>\n",
       "  </thead>\n",
       "  <tbody>\n",
       "    <tr>\n",
       "      <th>1</th>\n",
       "      <td>baths</td>\n",
       "      <td>138.673839</td>\n",
       "    </tr>\n",
       "    <tr>\n",
       "      <th>21</th>\n",
       "      <td>swimming_pool</td>\n",
       "      <td>100.346796</td>\n",
       "    </tr>\n",
       "    <tr>\n",
       "      <th>14</th>\n",
       "      <td>furnished</td>\n",
       "      <td>85.761789</td>\n",
       "    </tr>\n",
       "    <tr>\n",
       "      <th>24</th>\n",
       "      <td>study</td>\n",
       "      <td>82.508354</td>\n",
       "    </tr>\n",
       "    <tr>\n",
       "      <th>23</th>\n",
       "      <td>balcony</td>\n",
       "      <td>65.544155</td>\n",
       "    </tr>\n",
       "    <tr>\n",
       "      <th>12</th>\n",
       "      <td>balcony_deck</td>\n",
       "      <td>64.000577</td>\n",
       "    </tr>\n",
       "    <tr>\n",
       "      <th>0</th>\n",
       "      <td>beds</td>\n",
       "      <td>59.467489</td>\n",
       "    </tr>\n",
       "    <tr>\n",
       "      <th>25</th>\n",
       "      <td>garden_courtyard</td>\n",
       "      <td>56.142328</td>\n",
       "    </tr>\n",
       "    <tr>\n",
       "      <th>19</th>\n",
       "      <td>ducted_heating</td>\n",
       "      <td>50.513070</td>\n",
       "    </tr>\n",
       "    <tr>\n",
       "      <th>7</th>\n",
       "      <td>floorboards</td>\n",
       "      <td>42.083825</td>\n",
       "    </tr>\n",
       "    <tr>\n",
       "      <th>5</th>\n",
       "      <td>dishwasher</td>\n",
       "      <td>37.574434</td>\n",
       "    </tr>\n",
       "    <tr>\n",
       "      <th>9</th>\n",
       "      <td>intercom</td>\n",
       "      <td>30.443380</td>\n",
       "    </tr>\n",
       "    <tr>\n",
       "      <th>16</th>\n",
       "      <td>close_to_transport</td>\n",
       "      <td>22.976281</td>\n",
       "    </tr>\n",
       "    <tr>\n",
       "      <th>6</th>\n",
       "      <td>air_conditioning</td>\n",
       "      <td>18.932891</td>\n",
       "    </tr>\n",
       "    <tr>\n",
       "      <th>26</th>\n",
       "      <td>pets_allowed</td>\n",
       "      <td>18.778260</td>\n",
       "    </tr>\n",
       "    <tr>\n",
       "      <th>13</th>\n",
       "      <td>gym</td>\n",
       "      <td>10.450878</td>\n",
       "    </tr>\n",
       "    <tr>\n",
       "      <th>8</th>\n",
       "      <td>secure_parking</td>\n",
       "      <td>7.481777</td>\n",
       "    </tr>\n",
       "    <tr>\n",
       "      <th>10</th>\n",
       "      <td>heating</td>\n",
       "      <td>7.027428</td>\n",
       "    </tr>\n",
       "    <tr>\n",
       "      <th>28</th>\n",
       "      <td>alarm_system</td>\n",
       "      <td>6.600676</td>\n",
       "    </tr>\n",
       "    <tr>\n",
       "      <th>34</th>\n",
       "      <td>shopping_districts</td>\n",
       "      <td>4.751236</td>\n",
       "    </tr>\n",
       "    <tr>\n",
       "      <th>15</th>\n",
       "      <td>close_to_shops</td>\n",
       "      <td>3.302785</td>\n",
       "    </tr>\n",
       "    <tr>\n",
       "      <th>30</th>\n",
       "      <td>parks</td>\n",
       "      <td>1.059782</td>\n",
       "    </tr>\n",
       "    <tr>\n",
       "      <th>36</th>\n",
       "      <td>train_stations</td>\n",
       "      <td>0.549210</td>\n",
       "    </tr>\n",
       "    <tr>\n",
       "      <th>33</th>\n",
       "      <td>hospitals</td>\n",
       "      <td>0.494817</td>\n",
       "    </tr>\n",
       "    <tr>\n",
       "      <th>35</th>\n",
       "      <td>CBD</td>\n",
       "      <td>0.142509</td>\n",
       "    </tr>\n",
       "    <tr>\n",
       "      <th>31</th>\n",
       "      <td>schools</td>\n",
       "      <td>0.003190</td>\n",
       "    </tr>\n",
       "    <tr>\n",
       "      <th>3</th>\n",
       "      <td>postal_code</td>\n",
       "      <td>-0.064350</td>\n",
       "    </tr>\n",
       "    <tr>\n",
       "      <th>32</th>\n",
       "      <td>supermarkets</td>\n",
       "      <td>-1.213486</td>\n",
       "    </tr>\n",
       "    <tr>\n",
       "      <th>2</th>\n",
       "      <td>parkings</td>\n",
       "      <td>-1.922964</td>\n",
       "    </tr>\n",
       "    <tr>\n",
       "      <th>29</th>\n",
       "      <td>prop_type_index</td>\n",
       "      <td>-13.436837</td>\n",
       "    </tr>\n",
       "    <tr>\n",
       "      <th>20</th>\n",
       "      <td>split_system_heating</td>\n",
       "      <td>-16.087663</td>\n",
       "    </tr>\n",
       "    <tr>\n",
       "      <th>18</th>\n",
       "      <td>close_to_schools</td>\n",
       "      <td>-21.307012</td>\n",
       "    </tr>\n",
       "    <tr>\n",
       "      <th>27</th>\n",
       "      <td>internal_laundry</td>\n",
       "      <td>-35.137969</td>\n",
       "    </tr>\n",
       "    <tr>\n",
       "      <th>17</th>\n",
       "      <td>fully_fenced</td>\n",
       "      <td>-39.414570</td>\n",
       "    </tr>\n",
       "    <tr>\n",
       "      <th>4</th>\n",
       "      <td>built_in_wardrobes</td>\n",
       "      <td>-44.244432</td>\n",
       "    </tr>\n",
       "    <tr>\n",
       "      <th>22</th>\n",
       "      <td>remote_garage</td>\n",
       "      <td>-53.156704</td>\n",
       "    </tr>\n",
       "    <tr>\n",
       "      <th>11</th>\n",
       "      <td>ensuite</td>\n",
       "      <td>-53.507452</td>\n",
       "    </tr>\n",
       "  </tbody>\n",
       "</table>\n",
       "</div>"
      ],
      "text/plain": [
       "                 feature  coefficient\n",
       "1                  baths   138.673839\n",
       "21         swimming_pool   100.346796\n",
       "14             furnished    85.761789\n",
       "24                 study    82.508354\n",
       "23               balcony    65.544155\n",
       "12          balcony_deck    64.000577\n",
       "0                   beds    59.467489\n",
       "25      garden_courtyard    56.142328\n",
       "19        ducted_heating    50.513070\n",
       "7            floorboards    42.083825\n",
       "5             dishwasher    37.574434\n",
       "9               intercom    30.443380\n",
       "16    close_to_transport    22.976281\n",
       "6       air_conditioning    18.932891\n",
       "26          pets_allowed    18.778260\n",
       "13                   gym    10.450878\n",
       "8         secure_parking     7.481777\n",
       "10               heating     7.027428\n",
       "28          alarm_system     6.600676\n",
       "34    shopping_districts     4.751236\n",
       "15        close_to_shops     3.302785\n",
       "30                 parks     1.059782\n",
       "36        train_stations     0.549210\n",
       "33             hospitals     0.494817\n",
       "35                   CBD     0.142509\n",
       "31               schools     0.003190\n",
       "3            postal_code    -0.064350\n",
       "32          supermarkets    -1.213486\n",
       "2               parkings    -1.922964\n",
       "29       prop_type_index   -13.436837\n",
       "20  split_system_heating   -16.087663\n",
       "18      close_to_schools   -21.307012\n",
       "27      internal_laundry   -35.137969\n",
       "17          fully_fenced   -39.414570\n",
       "4     built_in_wardrobes   -44.244432\n",
       "22         remote_garage   -53.156704\n",
       "11               ensuite   -53.507452"
      ]
     },
     "execution_count": 162,
     "metadata": {},
     "output_type": "execute_result"
    }
   ],
   "source": [
    "# Print model summary\n",
    "print(\"Intercept: \" + str(lasso_model.intercept))\n",
    "print(\"RMSE: \" + str(lasso_model.summary.rootMeanSquaredError))\n",
    "print(\"r2: \" + str(lasso_model.summary.r2))\n",
    "\n",
    "# Get the coefficients and feature names\n",
    "lasso_coefficients = lasso_model.coefficients.toArray()\n",
    "\n",
    "# Create a DataFrame from the coefficients and feature names\n",
    "lasso_coefficients_df = pd.DataFrame({\n",
    "    'feature': feature_names,\n",
    "    'coefficient': lasso_coefficients\n",
    "})\n",
    "\n",
    "# Sort the DataFrame by the 'coefficient' column in decreasing order\n",
    "lasso_coefficients_df = lasso_coefficients_df.sort_values(by='coefficient', ascending=False)\n",
    "\n",
    "# Evaluate the model on the test data\n",
    "lasso_test_results = lasso_model.evaluate(test_data)\n",
    "\n",
    "# Print evaluation metrics\n",
    "print(\"Lasso Test RMSE: \", lasso_test_results.rootMeanSquaredError)\n",
    "print(\"Lasso Test r2: \", lasso_test_results.r2)\n",
    "\n",
    "lasso_coefficients_df"
   ]
  },
  {
   "cell_type": "code",
   "execution_count": 163,
   "metadata": {},
   "outputs": [],
   "source": [
    "def backward_elimination(data: DataFrame, features: list, label: str, stop_threshold=0.1):\n",
    "    features_to_keep = features.copy()\n",
    "    \n",
    "    while len(features_to_keep) > 0:\n",
    "        print(f\"Training model with {len(features_to_keep)} features.\")\n",
    "        \n",
    "        # Assemble the feature vector for the current set of features\n",
    "        assembler = VectorAssembler(inputCols=features_to_keep, outputCol=\"features\")\n",
    "        \n",
    "        # Drop the existing 'features' column if it exists\n",
    "        if 'features' in data.columns:\n",
    "            data = data.drop('features')\n",
    "\n",
    "        # Transform the data to create the new 'features' column\n",
    "        data_assembled = assembler.transform(data).select(\"features\", label)\n",
    "        \n",
    "        # Create a StandardScaler instance\n",
    "        scaler = StandardScaler(inputCol='features', outputCol='scaled_features', withMean=True, withStd=True)\n",
    "        \n",
    "        # Fit the scaler to the data and transform it\n",
    "        scaler_model = scaler.fit(data_assembled)\n",
    "        data_scaled = scaler_model.transform(data_assembled)\n",
    "        \n",
    "        # Train the model on the scaled features\n",
    "        lr = LinearRegression(featuresCol=\"scaled_features\", labelCol=label)\n",
    "        lr_model = lr.fit(data_scaled)\n",
    "        \n",
    "        # Get the coefficients and associated features\n",
    "        coefficients = lr_model.coefficients\n",
    "        coef_feature_pairs = list(zip(coefficients, features_to_keep))\n",
    "        \n",
    "        # Find the least significant feature (smallest coefficient magnitude)\n",
    "        least_significant_feature = min(coef_feature_pairs, key=lambda x: abs(x[0]))[1]\n",
    "        \n",
    "        # Check the magnitude of the smallest coefficient using absolute value\n",
    "        if abs(min(coef_feature_pairs, key=lambda x: abs(x[0]))[0]) < stop_threshold:\n",
    "            print(f\"Removing least significant feature: {least_significant_feature}\")\n",
    "            features_to_keep.remove(least_significant_feature)\n",
    "        else:\n",
    "            break\n",
    "    \n",
    "    print(f\"Final set of features: {features_to_keep}\")\n",
    "    return features_to_keep"
   ]
  },
  {
   "cell_type": "code",
   "execution_count": 164,
   "metadata": {},
   "outputs": [
    {
     "name": "stdout",
     "output_type": "stream",
     "text": [
      "Training model with 37 features.\n"
     ]
    },
    {
     "name": "stderr",
     "output_type": "stream",
     "text": [
      "24/10/01 22:04:19 WARN Instrumentation: [bccb678a] regParam is zero, which might cause numerical instability and overfitting.\n"
     ]
    },
    {
     "name": "stdout",
     "output_type": "stream",
     "text": [
      "Removing least significant feature: hospitals\n",
      "Training model with 36 features.\n"
     ]
    },
    {
     "name": "stderr",
     "output_type": "stream",
     "text": [
      "24/10/01 22:04:20 WARN Instrumentation: [4e1fcf2c] regParam is zero, which might cause numerical instability and overfitting.\n"
     ]
    },
    {
     "name": "stdout",
     "output_type": "stream",
     "text": [
      "Removing least significant feature: secure_parking\n",
      "Training model with 35 features.\n"
     ]
    },
    {
     "name": "stderr",
     "output_type": "stream",
     "text": [
      "24/10/01 22:04:21 WARN Instrumentation: [7d7830f7] regParam is zero, which might cause numerical instability and overfitting.\n"
     ]
    },
    {
     "name": "stdout",
     "output_type": "stream",
     "text": [
      "Removing least significant feature: alarm_system\n",
      "Training model with 34 features.\n"
     ]
    },
    {
     "name": "stderr",
     "output_type": "stream",
     "text": [
      "24/10/01 22:04:22 WARN Instrumentation: [4d8f5ec9] regParam is zero, which might cause numerical instability and overfitting.\n"
     ]
    },
    {
     "name": "stdout",
     "output_type": "stream",
     "text": [
      "Removing least significant feature: supermarkets\n",
      "Training model with 33 features.\n"
     ]
    },
    {
     "name": "stderr",
     "output_type": "stream",
     "text": [
      "24/10/01 22:04:23 WARN Instrumentation: [21474e9a] regParam is zero, which might cause numerical instability and overfitting.\n"
     ]
    },
    {
     "name": "stdout",
     "output_type": "stream",
     "text": [
      "Removing least significant feature: shopping_districts\n",
      "Training model with 32 features.\n"
     ]
    },
    {
     "name": "stderr",
     "output_type": "stream",
     "text": [
      "24/10/01 22:04:24 WARN Instrumentation: [ddbda10a] regParam is zero, which might cause numerical instability and overfitting.\n"
     ]
    },
    {
     "name": "stdout",
     "output_type": "stream",
     "text": [
      "Removing least significant feature: schools\n",
      "Training model with 31 features.\n"
     ]
    },
    {
     "name": "stderr",
     "output_type": "stream",
     "text": [
      "24/10/01 22:04:26 WARN Instrumentation: [00a26e6e] regParam is zero, which might cause numerical instability and overfitting.\n"
     ]
    },
    {
     "name": "stdout",
     "output_type": "stream",
     "text": [
      "Removing least significant feature: CBD\n",
      "Training model with 30 features.\n"
     ]
    },
    {
     "name": "stderr",
     "output_type": "stream",
     "text": [
      "24/10/01 22:04:27 WARN Instrumentation: [29e391ed] regParam is zero, which might cause numerical instability and overfitting.\n"
     ]
    },
    {
     "name": "stdout",
     "output_type": "stream",
     "text": [
      "Removing least significant feature: parks\n",
      "Training model with 29 features.\n"
     ]
    },
    {
     "name": "stderr",
     "output_type": "stream",
     "text": [
      "24/10/01 22:04:28 WARN Instrumentation: [e7c4e9f3] regParam is zero, which might cause numerical instability and overfitting.\n"
     ]
    },
    {
     "name": "stdout",
     "output_type": "stream",
     "text": [
      "Removing least significant feature: parkings\n",
      "Training model with 28 features.\n"
     ]
    },
    {
     "name": "stderr",
     "output_type": "stream",
     "text": [
      "24/10/01 22:04:29 WARN Instrumentation: [dff1b8c8] regParam is zero, which might cause numerical instability and overfitting.\n"
     ]
    },
    {
     "name": "stdout",
     "output_type": "stream",
     "text": [
      "Removing least significant feature: train_stations\n",
      "Training model with 27 features.\n"
     ]
    },
    {
     "name": "stderr",
     "output_type": "stream",
     "text": [
      "24/10/01 22:04:30 WARN Instrumentation: [23f6d837] regParam is zero, which might cause numerical instability and overfitting.\n"
     ]
    },
    {
     "name": "stdout",
     "output_type": "stream",
     "text": [
      "Removing least significant feature: close_to_schools\n",
      "Training model with 26 features.\n"
     ]
    },
    {
     "name": "stderr",
     "output_type": "stream",
     "text": [
      "24/10/01 22:04:31 WARN Instrumentation: [efedb051] regParam is zero, which might cause numerical instability and overfitting.\n"
     ]
    },
    {
     "name": "stdout",
     "output_type": "stream",
     "text": [
      "Removing least significant feature: heating\n",
      "Training model with 25 features.\n"
     ]
    },
    {
     "name": "stderr",
     "output_type": "stream",
     "text": [
      "24/10/01 22:04:32 WARN Instrumentation: [caeef25f] regParam is zero, which might cause numerical instability and overfitting.\n"
     ]
    },
    {
     "name": "stdout",
     "output_type": "stream",
     "text": [
      "Removing least significant feature: gym\n",
      "Training model with 24 features.\n"
     ]
    },
    {
     "name": "stderr",
     "output_type": "stream",
     "text": [
      "24/10/01 22:04:33 WARN Instrumentation: [561104ad] regParam is zero, which might cause numerical instability and overfitting.\n"
     ]
    },
    {
     "name": "stdout",
     "output_type": "stream",
     "text": [
      "Removing least significant feature: pets_allowed\n",
      "Training model with 23 features.\n"
     ]
    },
    {
     "name": "stderr",
     "output_type": "stream",
     "text": [
      "24/10/01 22:04:34 WARN Instrumentation: [852e6824] regParam is zero, which might cause numerical instability and overfitting.\n"
     ]
    },
    {
     "name": "stdout",
     "output_type": "stream",
     "text": [
      "Removing least significant feature: split_system_heating\n",
      "Training model with 22 features.\n"
     ]
    },
    {
     "name": "stderr",
     "output_type": "stream",
     "text": [
      "24/10/01 22:04:35 WARN Instrumentation: [d0a7feef] regParam is zero, which might cause numerical instability and overfitting.\n"
     ]
    },
    {
     "name": "stdout",
     "output_type": "stream",
     "text": [
      "Removing least significant feature: close_to_shops\n",
      "Training model with 21 features.\n"
     ]
    },
    {
     "name": "stderr",
     "output_type": "stream",
     "text": [
      "24/10/01 22:04:36 WARN Instrumentation: [4dbcaaa3] regParam is zero, which might cause numerical instability and overfitting.\n"
     ]
    },
    {
     "name": "stdout",
     "output_type": "stream",
     "text": [
      "Removing least significant feature: close_to_transport\n",
      "Training model with 20 features.\n"
     ]
    },
    {
     "name": "stderr",
     "output_type": "stream",
     "text": [
      "24/10/01 22:04:37 WARN Instrumentation: [c5df25ec] regParam is zero, which might cause numerical instability and overfitting.\n"
     ]
    },
    {
     "name": "stdout",
     "output_type": "stream",
     "text": [
      "Removing least significant feature: internal_laundry\n",
      "Training model with 19 features.\n"
     ]
    },
    {
     "name": "stderr",
     "output_type": "stream",
     "text": [
      "24/10/01 22:04:38 WARN Instrumentation: [84a72a39] regParam is zero, which might cause numerical instability and overfitting.\n"
     ]
    },
    {
     "name": "stdout",
     "output_type": "stream",
     "text": [
      "Final set of features: ['beds', 'baths', 'postal_code', 'built_in_wardrobes', 'dishwasher', 'air_conditioning', 'floorboards', 'intercom', 'ensuite', 'balcony_deck', 'furnished', 'fully_fenced', 'ducted_heating', 'swimming_pool', 'remote_garage', 'balcony', 'study', 'garden_courtyard', 'prop_type_index']\n"
     ]
    }
   ],
   "source": [
    "# Perform backward elimination\n",
    "final_features = backward_elimination(data, feature_columns, 'cost', stop_threshold=8.5)"
   ]
  },
  {
   "cell_type": "code",
   "execution_count": 165,
   "metadata": {},
   "outputs": [],
   "source": [
    "# Create a VectorAssembler to combine feature columns into a single vector\n",
    "assembler = VectorAssembler(inputCols=final_features, outputCol='features')\n",
    "\n",
    "# Transform the features into a single vector column\n",
    "data = sdf.select('cost', *feature_columns)\n",
    "data = assembler.transform(data)"
   ]
  },
  {
   "cell_type": "code",
   "execution_count": 166,
   "metadata": {},
   "outputs": [],
   "source": [
    "# Create a StandardScaler instance\n",
    "scaler = StandardScaler(inputCol='features', outputCol='scaled_features', withMean=True, withStd=True)\n",
    "\n",
    "# Fit the scaler to the data\n",
    "scaler_model = scaler.fit(data)\n",
    "\n",
    "# Transform the data using the fitted scaler\n",
    "data = scaler_model.transform(data)"
   ]
  },
  {
   "cell_type": "code",
   "execution_count": 167,
   "metadata": {},
   "outputs": [],
   "source": [
    "# Split the data into training and test sets\n",
    "train_data, test_data = data.randomSplit([0.7, 0.3], seed=1003)"
   ]
  },
  {
   "cell_type": "code",
   "execution_count": 168,
   "metadata": {},
   "outputs": [
    {
     "name": "stderr",
     "output_type": "stream",
     "text": [
      "24/10/01 22:04:40 WARN Instrumentation: [c731d260] regParam is zero, which might cause numerical instability and overfitting.\n"
     ]
    }
   ],
   "source": [
    "# Initialize the Linear Regression model\n",
    "lr = LinearRegression(featuresCol='scaled_features', labelCol='cost')\n",
    "\n",
    "# Fit the model to the training data\n",
    "lr_model = lr.fit(train_data)"
   ]
  },
  {
   "cell_type": "code",
   "execution_count": 169,
   "metadata": {},
   "outputs": [
    {
     "name": "stdout",
     "output_type": "stream",
     "text": [
      "Intercept: 630.6703919110146\n",
      "RMSE: 198.2768635869822\n",
      "r2: 0.33802264821596684\n",
      "Test RMSE:  197.58438775770833\n",
      "Test r2:  0.32943973636307733\n"
     ]
    },
    {
     "data": {
      "text/html": [
       "<div>\n",
       "<style scoped>\n",
       "    .dataframe tbody tr th:only-of-type {\n",
       "        vertical-align: middle;\n",
       "    }\n",
       "\n",
       "    .dataframe tbody tr th {\n",
       "        vertical-align: top;\n",
       "    }\n",
       "\n",
       "    .dataframe thead th {\n",
       "        text-align: right;\n",
       "    }\n",
       "</style>\n",
       "<table border=\"1\" class=\"dataframe\">\n",
       "  <thead>\n",
       "    <tr style=\"text-align: right;\">\n",
       "      <th></th>\n",
       "      <th>feature</th>\n",
       "      <th>coefficient</th>\n",
       "    </tr>\n",
       "  </thead>\n",
       "  <tbody>\n",
       "    <tr>\n",
       "      <th>1</th>\n",
       "      <td>baths</td>\n",
       "      <td>86.141049</td>\n",
       "    </tr>\n",
       "    <tr>\n",
       "      <th>0</th>\n",
       "      <td>beds</td>\n",
       "      <td>64.821416</td>\n",
       "    </tr>\n",
       "    <tr>\n",
       "      <th>13</th>\n",
       "      <td>swimming_pool</td>\n",
       "      <td>25.593529</td>\n",
       "    </tr>\n",
       "    <tr>\n",
       "      <th>10</th>\n",
       "      <td>furnished</td>\n",
       "      <td>22.296458</td>\n",
       "    </tr>\n",
       "    <tr>\n",
       "      <th>16</th>\n",
       "      <td>study</td>\n",
       "      <td>18.268164</td>\n",
       "    </tr>\n",
       "    <tr>\n",
       "      <th>9</th>\n",
       "      <td>balcony_deck</td>\n",
       "      <td>17.010795</td>\n",
       "    </tr>\n",
       "    <tr>\n",
       "      <th>4</th>\n",
       "      <td>dishwasher</td>\n",
       "      <td>15.613591</td>\n",
       "    </tr>\n",
       "    <tr>\n",
       "      <th>15</th>\n",
       "      <td>balcony</td>\n",
       "      <td>15.363227</td>\n",
       "    </tr>\n",
       "    <tr>\n",
       "      <th>6</th>\n",
       "      <td>floorboards</td>\n",
       "      <td>14.407658</td>\n",
       "    </tr>\n",
       "    <tr>\n",
       "      <th>12</th>\n",
       "      <td>ducted_heating</td>\n",
       "      <td>13.298636</td>\n",
       "    </tr>\n",
       "    <tr>\n",
       "      <th>7</th>\n",
       "      <td>intercom</td>\n",
       "      <td>11.120107</td>\n",
       "    </tr>\n",
       "    <tr>\n",
       "      <th>17</th>\n",
       "      <td>garden_courtyard</td>\n",
       "      <td>10.778169</td>\n",
       "    </tr>\n",
       "    <tr>\n",
       "      <th>5</th>\n",
       "      <td>air_conditioning</td>\n",
       "      <td>9.486624</td>\n",
       "    </tr>\n",
       "    <tr>\n",
       "      <th>11</th>\n",
       "      <td>fully_fenced</td>\n",
       "      <td>-9.760205</td>\n",
       "    </tr>\n",
       "    <tr>\n",
       "      <th>18</th>\n",
       "      <td>prop_type_index</td>\n",
       "      <td>-11.510750</td>\n",
       "    </tr>\n",
       "    <tr>\n",
       "      <th>14</th>\n",
       "      <td>remote_garage</td>\n",
       "      <td>-11.840620</td>\n",
       "    </tr>\n",
       "    <tr>\n",
       "      <th>2</th>\n",
       "      <td>postal_code</td>\n",
       "      <td>-15.378906</td>\n",
       "    </tr>\n",
       "    <tr>\n",
       "      <th>8</th>\n",
       "      <td>ensuite</td>\n",
       "      <td>-15.478606</td>\n",
       "    </tr>\n",
       "    <tr>\n",
       "      <th>3</th>\n",
       "      <td>built_in_wardrobes</td>\n",
       "      <td>-21.038657</td>\n",
       "    </tr>\n",
       "  </tbody>\n",
       "</table>\n",
       "</div>"
      ],
      "text/plain": [
       "               feature  coefficient\n",
       "1                baths    86.141049\n",
       "0                 beds    64.821416\n",
       "13       swimming_pool    25.593529\n",
       "10           furnished    22.296458\n",
       "16               study    18.268164\n",
       "9         balcony_deck    17.010795\n",
       "4           dishwasher    15.613591\n",
       "15             balcony    15.363227\n",
       "6          floorboards    14.407658\n",
       "12      ducted_heating    13.298636\n",
       "7             intercom    11.120107\n",
       "17    garden_courtyard    10.778169\n",
       "5     air_conditioning     9.486624\n",
       "11        fully_fenced    -9.760205\n",
       "18     prop_type_index   -11.510750\n",
       "14       remote_garage   -11.840620\n",
       "2          postal_code   -15.378906\n",
       "8              ensuite   -15.478606\n",
       "3   built_in_wardrobes   -21.038657"
      ]
     },
     "execution_count": 169,
     "metadata": {},
     "output_type": "execute_result"
    }
   ],
   "source": [
    "# Print model summary\n",
    "print(\"Intercept: \" + str(lr_model.intercept))\n",
    "print(\"RMSE: \" + str(lr_model.summary.rootMeanSquaredError))\n",
    "print(\"r2: \" + str(lr_model.summary.r2))\n",
    "\n",
    "# Get the coefficients and feature names\n",
    "coefficients = lr_model.coefficients.toArray()\n",
    "feature_names = final_features\n",
    "\n",
    "# Create a DataFrame from the coefficients and feature names\n",
    "coefficients_df = pd.DataFrame({\n",
    "    'feature': feature_names,\n",
    "    'coefficient': coefficients\n",
    "})\n",
    "\n",
    "# Sort the DataFrame by the 'coefficient' column in decreasing order\n",
    "coefficients_df = coefficients_df.sort_values(by='coefficient', ascending=False)\n",
    "\n",
    "# Evaluate the model on the test data\n",
    "test_results = lr_model.evaluate(test_data)\n",
    "\n",
    "# Print evaluation metrics\n",
    "print(\"Test RMSE: \", test_results.rootMeanSquaredError)\n",
    "print(\"Test r2: \", test_results.r2)\n",
    "\n",
    "coefficients_df"
   ]
  },
  {
   "cell_type": "markdown",
   "metadata": {},
   "source": [
    "## TREE MODELS"
   ]
  },
  {
   "cell_type": "code",
   "execution_count": 172,
   "metadata": {},
   "outputs": [],
   "source": [
    "# Create a VectorAssembler to combine feature columns into a single vector\n",
    "assembler = VectorAssembler(inputCols=feature_columns, outputCol='features')\n",
    "\n",
    "# Select the target variable (cost) and prepare the final DataFrame\n",
    "data = sdf.select('cost', *feature_columns)\n",
    "\n",
    "# Transform the features into a single vector column\n",
    "data = assembler.transform(data)\n",
    "\n",
    "# Create a MinMaxScaler instance\n",
    "scaler = StandardScaler(inputCol='features', outputCol='scaled_features')\n",
    "\n",
    "# Fit the scaler to the data\n",
    "scaler_model = scaler.fit(data)\n",
    "\n",
    "# Transform the data using the fitted scaler\n",
    "data = scaler_model.transform(data)\n",
    "\n",
    "# Split the data into training and test sets\n",
    "train_data, test_data = data.randomSplit([0.8, 0.2], seed=1003)"
   ]
  },
  {
   "cell_type": "code",
   "execution_count": 173,
   "metadata": {},
   "outputs": [
    {
     "name": "stderr",
     "output_type": "stream",
     "text": [
      "                                                                                \r"
     ]
    }
   ],
   "source": [
    "# Initialize the Gradient Boosting model\n",
    "gbt = GBTRegressor(featuresCol='scaled_features', labelCol='cost', maxIter=100)\n",
    "\n",
    "# Fit the model to the training data\n",
    "gbt_model = gbt.fit(train_data)"
   ]
  },
  {
   "cell_type": "code",
   "execution_count": null,
   "metadata": {},
   "outputs": [],
   "source": [
    "# Print model summary\n",
    "print(\"Gradient Boosting Model Summary\")\n",
    "print(\"Number of Trees: \", gbt_model.getNumTrees)\n",
    "\n",
    "# Evaluate the model on the test data\n",
    "gbt_predictions = gbt_model.transform(test_data)\n",
    "\n",
    "# %%\n",
    "# Create evaluators for RMSE, MAE, and R-squared\n",
    "gbt_rmse = rmse_evaluator.evaluate(gbt_predictions)\n",
    "gbt_mae = mae_evaluator.evaluate(gbt_predictions)\n",
    "gbt_r2 = r2_evaluator.evaluate(gbt_predictions)\n",
    "\n",
    "# Print evaluation metrics\n",
    "print(f\"Gradient Boosting Test RMSE: {gbt_rmse}, MAE: {gbt_mae}, R2: {gbt_r2}\")"
   ]
  },
  {
   "cell_type": "code",
   "execution_count": null,
   "metadata": {},
   "outputs": [],
   "source": [
    "# Get feature importances\n",
    "gbt_feature_importances = gbt_model.featureImportances\n",
    "\n",
    "# Create a DataFrame from the feature importances\n",
    "feature_importances_df = pd.DataFrame({\n",
    "    'feature': final_features,\n",
    "    'importance': gbt_feature_importances.toArray()\n",
    "})\n",
    "\n",
    "# Sort the DataFrame by the 'importance' column in decreasing order\n",
    "feature_importances_df = feature_importances_df.sort_values(by='importance', ascending=False)"
   ]
  }
 ],
 "metadata": {
  "kernelspec": {
   "display_name": "Python 3",
   "language": "python",
   "name": "python3"
  },
  "language_info": {
   "codemirror_mode": {
    "name": "ipython",
    "version": 3
   },
   "file_extension": ".py",
   "mimetype": "text/x-python",
   "name": "python",
   "nbconvert_exporter": "python",
   "pygments_lexer": "ipython3",
   "version": "3.12.6"
  }
 },
 "nbformat": 4,
 "nbformat_minor": 2
}
